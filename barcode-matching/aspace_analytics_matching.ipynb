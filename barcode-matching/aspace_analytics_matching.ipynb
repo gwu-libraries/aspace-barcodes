{
 "cells": [
  {
   "cell_type": "markdown",
   "metadata": {},
   "source": [
    "## ArchiveSpace Barcodes Project\n",
    "### Notebook 3\n",
    "\n",
    "This notebook contains code for matching Alma item records with ASPace top containers, using a combination of the Alma item `Enum A` field amd the Alma holdings `Permanent Call Number` field."
   ]
  },
  {
   "cell_type": "code",
   "execution_count": 27,
   "metadata": {},
   "outputs": [],
   "source": [
    "import pandas as pd\n",
    "import re\n",
    "import pickle\n",
    "import numpy as np"
   ]
  },
  {
   "cell_type": "markdown",
   "metadata": {},
   "source": [
    "`tc_df`: ASpace top containers with associated series information.\n",
    "\n",
    "`tc_bibs_df`: Top containers with linked bib ID's.\n",
    "\n",
    "Note that because the bib ID's are note on the **resource** record, not the top container, it's not always possible to match a given top container to a single bib record in Alma. In those cases, we need to check multiple bib records, looking across all the holdings to identify the best match based on the series and box information encoded in the item `Enum A` field and the holdings `Permanent Call Number`. "
   ]
  },
  {
   "cell_type": "code",
   "execution_count": 2,
   "metadata": {},
   "outputs": [],
   "source": [
    "tc_df = pd.read_pickle('./aspace_data/merged-dataset.pkl.gz')\n",
    "tc_bibs_df = pd.read_pickle('./aspace_data/tc-to-bib-mapping.pkl.gz')"
   ]
  },
  {
   "cell_type": "code",
   "execution_count": 3,
   "metadata": {},
   "outputs": [],
   "source": [
    "# Convert pandas nulls to empty strings\n",
    "tc_bibs_df.mms_id = tc_bibs_df.mms_id.fillna(\"\")"
   ]
  },
  {
   "cell_type": "code",
   "execution_count": 4,
   "metadata": {},
   "outputs": [],
   "source": [
    "tc_df.component_id = tc_df.component_id.fillna(\"\")"
   ]
  },
  {
   "cell_type": "markdown",
   "metadata": {},
   "source": [
    "Analytics path to Alma items report: `/shared/The George Washington University/SCRC Projects/barcodes-to-aspace/scrc_barcodes_final`"
   ]
  },
  {
   "cell_type": "code",
   "execution_count": 5,
   "metadata": {},
   "outputs": [],
   "source": [
    "# Load Alma item records (from Alma Analytics report)\n",
    "# Set columns as string to facilitate matching\n",
    "dtypes={'MMS Id': str,\n",
    "       'Barcode': str,\n",
    "       'Enum A': str}\n",
    "alma_items = pd.read_csv('./aspace_data/scrc_barcodes.csv', dtype=dtypes)"
   ]
  },
  {
   "cell_type": "markdown",
   "metadata": {},
   "source": [
    "To map top containers (TC) to Alma item records:\n",
    "\n",
    "1. Identify the bib record(s) associated with a given TC\n",
    "2. Isolate the Alma items associated with that bib record\n",
    "3. Construct the enum for the TC in 2 ways:\n",
    "    - as the TC `indicator` + the TC `container_type`\n",
    "    - as the series-level (archival object) `component_id` plus the TC `indicator` + the TC `container_type`\n",
    "4. Attempt to match on the Alma item `Enum A` field"
   ]
  },
  {
   "cell_type": "code",
   "execution_count": 6,
   "metadata": {},
   "outputs": [],
   "source": [
    "orig_id = r'(\\d+)-wrlcdb'   # Pattern for the Originating System ID field in Alma\n",
    "local_param = r'\\(DGW\\)(\\d+)\\-wrlcdb.+' # Pattern for the Local Param 06 field in Alma"
   ]
  },
  {
   "cell_type": "code",
   "execution_count": 7,
   "metadata": {},
   "outputs": [],
   "source": [
    "# Fill nulls for string matching\n",
    "alma_items['enum_a'] = alma_items['Enum A'].fillna('')\n",
    "alma_items['voyager_id'] = alma_items['Local Param 06'].fillna(\"\").str.extract(local_param)"
   ]
  },
  {
   "cell_type": "code",
   "execution_count": 8,
   "metadata": {},
   "outputs": [],
   "source": [
    "# Where local params is null, use Originating System ID\n",
    "alma_items.voyager_id = alma_items.voyager_id.fillna(alma_items['Originating System ID'].str.extract(orig_id, expand=False))"
   ]
  },
  {
   "cell_type": "code",
   "execution_count": 9,
   "metadata": {},
   "outputs": [],
   "source": [
    "# Patterns in Permanent Call Number field\n",
    "call_nos = re.compile(r'.*[Ss]eries ([0-9 ,\\-]+)(?:and )?([0-9 ,\\-]*)')\n",
    "with_series = alma_items.loc[alma_items['Permanent Call Number'].str.contains('[Ss]eries')].copy()\n",
    "ws_df = with_series.join(with_series['Permanent Call Number'].str.extract(call_nos))#.to_clipboard(index=True)"
   ]
  },
  {
   "cell_type": "code",
   "execution_count": 10,
   "metadata": {},
   "outputs": [],
   "source": [
    "# Combine matches and convert to list, preserving ranges\n",
    "ws_df['call_no_series'] = (ws_df[0] + ws_df[1]).str.split(r'(?:,\\s?)|\\s+')"
   ]
  },
  {
   "cell_type": "code",
   "execution_count": 11,
   "metadata": {},
   "outputs": [
    {
     "data": {
      "text/plain": [
       "array(['Box', 'drawer', 'map-folder', 'reel', 'othertype', 'object',\n",
       "       'frame', 'oversize', 'dataset', 'tube', 'binder',\n",
       "       'oversize-folder', 'map-case', 'flat_box', 'item', 'film_can',\n",
       "       'volume', 'Folder'], dtype=object)"
      ]
     },
     "execution_count": 11,
     "metadata": {},
     "output_type": "execute_result"
    }
   ],
   "source": [
    "# Unique container types\n",
    "tc_df.container_type.unique()"
   ]
  },
  {
   "cell_type": "code",
   "execution_count": 12,
   "metadata": {},
   "outputs": [],
   "source": [
    "# Extracting the matching type info from the Alma Enum A field\n",
    "enum_items = alma_items['Enum A'].str.extract('(series \\d+ )?([A-Za-z\\- ]+)\\d*', flags=re.IGNORECASE)\n",
    "enum_items[1] = enum_items[1].str.strip()\n",
    "pd.concat([enum_items[1], alma_items['Enum A']], axis=1).groupby(1)['Enum A'].first().to_clipboard()"
   ]
  },
  {
   "cell_type": "markdown",
   "metadata": {},
   "source": [
    "The following code takes the contents of the `Enum A` field on the Alma item record and attempts to extract series- and container-level indicators from the string representing that field."
   ]
  },
  {
   "cell_type": "code",
   "execution_count": 13,
   "metadata": {},
   "outputs": [],
   "source": [
    "series_patterns = (r'(?:\\s|,|^)series ([0-9IVX]+)',)\n",
    "container_patterns = {'flat_box': (r'flat\\s?-?\\s?box\\s?([A-Z0-9\\-\\.]+)(?:,|$|\\s)',),\n",
    "                      'oversize-folder': (r'oversized? folder\\s?([A-Z0-9\\-\\.]+)(?:,|$|\\s)',\n",
    "                                          r'ovs. folder\\s?([A-Z0-9\\-\\.]+)(?:,|$|\\s)'),\n",
    "                      'oversize': (r'oversize box\\s?([A-Z0-9\\-\\.]+)(?:,|$|\\s)',\n",
    "                                  r'oversize\\s?([A-Z0-9\\-\\.]+)(?:,|$|\\s)'),\n",
    "                      'volume': (r'v\\.\\s?([A-Z0-9\\-\\.]+)(?:,|$|\\s)',\n",
    "                                r'volume\\s?([A-Z0-9\\-\\.]+)(?:,|$|\\s)'),\n",
    "                      'box': \n",
    "                        (r'box\\s?(\\d+)(?:,|$|\\s)',           # Box 1, Box Shared Box 2\n",
    "                         r'box shared\\s?(\\d+)(?:,|$|\\s)',    # Box Shared 2\n",
    "                         r'box (up [a-zA-Z0-9]+)(?:,|$)',    # Box UP 3\n",
    "                         r'box (no. [a-zA-Z0-9]+)(?:,|$)',   # Box No. 1\n",
    "                         r'box\\s?([A-Z0-9\\-\\.]+)(?:,|$|\\s)', # Box UP3, Box WPA-2014.066\n",
    "                         r'boxes (\\d+-\\d+)(?:,|$|\\s)',       # Boxes 53-5\n",
    "                         r'^([A-Z0-9\\-\\.]+)$'                # RG3.2-0000.001\n",
    "                        )}\n",
    "for container in [('carton', 'carton'), ('film_can', 'film can'), \n",
    "                  ('map-folder', 'folder'), ('object', 'object'),\n",
    "                  ('poster', 'poster'), ('reel', 'reel'), ('tube', 'tube')]:\n",
    "    container_patterns[container[0]] = (container[1] + '\\s?([A-Z0-9\\-\\.]+)(?:,|$|\\s)',)\n",
    "                      \n",
    "series_patterns = tuple((re.compile(p, re.IGNORECASE) for p in series_patterns))\n",
    "container_patterns = {k: tuple((re.compile(p, re.IGNORECASE) for p in v)) \n",
    "                      for k,v in container_patterns.items()}\n",
    "\n",
    "def extract_enum(enum):\n",
    "    '''\n",
    "    enum => Alma item record\n",
    "    Returns: {'series': Series matching string, if present\n",
    "             'box': Box matching string, if present}\n",
    "    '''\n",
    "    values = {'series': None,\n",
    "             'container': None,\n",
    "             'container_type': None}\n",
    "    for pat in series_patterns:\n",
    "        m = pat.search(enum)\n",
    "        if m:\n",
    "            values['series'] =  m.group(1)\n",
    "            break\n",
    "    for t, pats in container_patterns.items():\n",
    "        for pat in pats:\n",
    "            m = pat.search(enum)\n",
    "            if m:\n",
    "                values['container'] = m.group(1)\n",
    "                values['container_type'] = t\n",
    "                return values\n",
    "    return values"
   ]
  },
  {
   "cell_type": "code",
   "execution_count": 14,
   "metadata": {},
   "outputs": [
    {
     "data": {
      "text/plain": [
       "{'series': None, 'container': '2007-UP0012', 'container_type': 'box'}"
      ]
     },
     "execution_count": 14,
     "metadata": {},
     "output_type": "execute_result"
    }
   ],
   "source": [
    "extract_enum('2007-UP0012')"
   ]
  },
  {
   "cell_type": "markdown",
   "metadata": {},
   "source": [
    "The following code takes 1) an ASpace TC `indicator` string along with a TC `container_type`, 2) an Alma item enum string, 3) an optional ASpace `component_id` string, and 4) and optional string representing the `Permanent Call Number` field from an Alma holdings record.\n",
    "\n",
    "It expects box-level information to be found on the Alma item enumeration.\n",
    "\n",
    "It attempts to find a match in the following order:\n",
    "\n",
    "| ASpace                            | Alma                  |\n",
    "| :----------------------------------| :----------------------|  \n",
    "| indicator (container) & component_id (series)         | Enum A (series & container) |\n",
    "| indicator (container) & component_id (series)          | Enum A (container) & Call No (series) |\n",
    "| indicator (container)                       | Enum A (container) |"
   ]
  },
  {
   "cell_type": "code",
   "execution_count": 15,
   "metadata": {},
   "outputs": [],
   "source": [
    "def find_match(indicator, container_type, enum, component=None, call_no_series=None):\n",
    "    '''\n",
    "    indicator => ASpace top container,\n",
    "    container_type => ASpace top container,\n",
    "    component => ASpace top-level archival object (series)\n",
    "    enum => Alma item record\n",
    "    call_no_series => list of series numbers from Alma call number\n",
    "    Returns: ('S enum' => series (item-level) & container match,\n",
    "              'S call_no' => series (holding-level) & container match,\n",
    "             'C'  => container match,\n",
    "             None => no match)\n",
    "    '''\n",
    "    enum_values = extract_enum(enum)\n",
    "    enum_container = enum_values['container_type']\n",
    "    # Compare enum and indicator/container type for container match\n",
    "    container_match = enum_container and (enum_container.lower() == container_type.lower())\n",
    "    # If container types don't match, no need to continue\n",
    "    if not container_match:\n",
    "        return\n",
    "    indicator_match = enum_values['container'].lower() == indicator.lower()\n",
    "    # Some numbers begin with leading zeroes\n",
    "    if not indicator_match:\n",
    "        ind_z = indicator.zfill(len(enum_values['container']))\n",
    "        indicator_match = enum_values['container'] == ind_z\n",
    "    # If there's a component, it may contain series information\n",
    "    if component:\n",
    "        series_comp = series_patterns[0].search(component)\n",
    "        if series_comp and enum_values['series']:\n",
    "            # Compare enum and component for series information\n",
    "            series_match = enum_values['series'].lower() == series_comp.group(1).lower()\n",
    "            if series_match and enum_values['series'] and indicator_match:\n",
    "                return 'S enum'\n",
    "        # Compare component and holdings call number\n",
    "        elif call_no_series and (series_comp.group(1).lower() in call_no_series) and indicator_match:\n",
    "            return 'S call_no'\n",
    "    # No series match? Container match, if there is one\n",
    "    if indicator_match:\n",
    "        return 'C'\n",
    "            "
   ]
  },
  {
   "cell_type": "markdown",
   "metadata": {},
   "source": [
    "An instance of the following class encodes a single top container and the Alma items and holdings to which it *may* refer (based on the bib ID's from the resource record).\n",
    "\n",
    "The `find_matches` method iterates through the possible matches and identifies any where the box and/or box + series information correspond."
   ]
  },
  {
   "cell_type": "code",
   "execution_count": 16,
   "metadata": {},
   "outputs": [],
   "source": [
    "from collections import defaultdict\n",
    "\n",
    "# Each top container has one or more component id's, one indicator, and one resource record \n",
    "class TopContainer:\n",
    "    \n",
    "    def __init__(self, tc_id, tc_df):\n",
    "        '''\n",
    "        Initialized with DataFrame group of top containers from ArchiveSpace\n",
    "        :param tc_id: id of top container\n",
    "        :param tc_df: DataFrame with rows for that top container\n",
    "        '''\n",
    "        self.tc_id = tc_id\n",
    "        self.resource_id = tc_df.resource_id.values[0]\n",
    "        self.resource_title = tc_df.resource_title.values[0]\n",
    "        # multiple components (top-level series) are possible per container\n",
    "        self.component_ids = tc_df.component_id.unique()\n",
    "        # one indicator and type per top container\n",
    "        self.indicator = tc_df.indicator.values[0]\n",
    "        self.container_type = tc_df.container_type.values[0]        \n",
    "        \n",
    "    def add_bib_ids(self, bibs_df):\n",
    "        '''\n",
    "        :param bibs_df: DataFrame mapping a top container to Alma/Voyager bib IDs.\n",
    "        A top container may be associated with more than one MMS Id/Voyager Id, since the latter \n",
    "        are recorded at the resource level, not the container level\n",
    "        '''\n",
    "        self.mms_ids = bibs_df.loc[bibs_df.top_container_id == self.tc_id].mms_id.dropna().unique()\n",
    "        self.voyager_ids = bibs_df.loc[bibs_df.top_container_id == self.tc_id].voyager_id.dropna().unique()\n",
    "        return self\n",
    "    \n",
    "    def add_alma_items(self, alma_df):\n",
    "        '''\n",
    "        :param alma_df: DataFrame of item-level info from Alma\n",
    "        Each barcode should map to a single top container. However, we have to use a combination \n",
    "        of the MMS Id/Voyager Id, the call number (holding) and the item-level enumeration on the Alma record\n",
    "        to make this match.\n",
    "        '''\n",
    "        # Create groups of items matching the associated bib ID's\n",
    "        alma_tc_items = alma_df.loc[alma_df['MMS Id'].isin(self.mms_ids) | \n",
    "                                   alma_df.voyager_id.isin(self.voyager_ids)]\n",
    "        # Group by holdings ID (for matching on the call number)\n",
    "        holding_groups = alma_tc_items.groupby('Holding Id')\n",
    "        # Retrieves values for a column and associates it with the group key\n",
    "        self.barcodes = holding_groups.Barcode.apply(lambda x: x.values).to_dict()\n",
    "        self.enums = holding_groups.enum_a.apply(lambda x: x.values).to_dict()\n",
    "        return self\n",
    "        \n",
    "    def add_series_cn(self, call_no_df):\n",
    "        '''\n",
    "        :param call_no_df: DataFrame of call-number series info (Alma, holdings level)\n",
    "        Series information can be encoded in Alma in the call number (on the holdings record).\n",
    "        \n",
    "        '''\n",
    "        self.call_no_series = defaultdict(list)\n",
    "        self.call_nos = {}\n",
    "        # loop through holding ID's associated with this resource\n",
    "        for holding_id in self.barcodes:\n",
    "            # Retrieve series info\n",
    "            holdings = call_no_df.loc[call_no_df['Holding Id'] == holding_id]\n",
    "            # May not contain any series info\n",
    "            if not holdings.empty:\n",
    "                # Store the call number string for reference on result\n",
    "                self.call_nos[holding_id] = holdings['Permanent Call Number'].values[0]\n",
    "                # Only one call number per holding\n",
    "                series_list = holdings.call_no_series.values[0]\n",
    "                # Expand ranges: 1-3 => 1, 2, 3\n",
    "                for s in series_list:\n",
    "                    if '-' in s:\n",
    "                        endpoints = s.split('-')\n",
    "                        series_range = [str(n) for n in range(int(endpoints[0]),\n",
    "                                                              int(endpoints[1]) + 1)]\n",
    "                        self.call_no_series[holding_id].extend(series_range)\n",
    "                    else:\n",
    "                        self.call_no_series[holding_id].append(s)\n",
    "        return self \n",
    "    \n",
    "    def find_matches(self):\n",
    "        '''\n",
    "        Identifies possible matches between a top container (indicator/series component) and \n",
    "        an Alma item.\n",
    "        Encodes the following assumptions:\n",
    "          - A top container with multiple distinct series (archival-object components) will match on the indicator\n",
    "          - A top container with a single unique series may match on the following:\n",
    "            - indicator alone => item enum\n",
    "            - indicator + component => item enum\n",
    "            - indicator => item enum, component => call number\n",
    "        Inspect all holdings/items associated with this top container and records matches\n",
    "        '''\n",
    "        self.matches = []\n",
    "        # Iterate over holdings\n",
    "        for holding in self.barcodes:\n",
    "            # Iterate over items\n",
    "            for barcode, enum in zip(self.barcodes[holding], self.enums[holding]):\n",
    "                if len(self.component_ids) == 1:\n",
    "                    match = find_match(self.indicator, self.container_type, enum, component=self.component_ids[0], \n",
    "                                      call_no_series=self.call_no_series.get(holding))\n",
    "                else:\n",
    "                    match = find_match(self.indicator, self.container_type, enum, call_no_series=self.call_no_series.get(holding))\n",
    "                if match:\n",
    "                    self.matches.append({'barcode': barcode,\n",
    "                                            'alma_item': enum,\n",
    "                                            'alma_call_number': self.call_nos.get(holding),\n",
    "                                            'holding_id': holding,\n",
    "                                            'match_type': match,\n",
    "                                            'indicator': self.indicator,\n",
    "                                            'container_type': self.container_type,\n",
    "                                            'components': '; '.join(self.component_ids),\n",
    "                                            'top_container': self.tc_id,\n",
    "                                            'aspace_resource': self.resource_id,\n",
    "                                            'resource_title': self.resource_title\n",
    "                                        })\n",
    "        return self\n",
    "                        \n",
    "                \n",
    "        "
   ]
  },
  {
   "cell_type": "code",
   "execution_count": 17,
   "metadata": {},
   "outputs": [],
   "source": [
    "# Creates a top-container object for each top container in the ASpace data, associates it with the corresponding Alma holdings, and looks for matches\n",
    "top_containers = []\n",
    "for tc_id, df in tc_df.groupby('top_container_id'):\n",
    "    tc = TopContainer(tc_id, df)\n",
    "    tc.add_bib_ids(tc_bibs_df).add_alma_items(alma_items).add_series_cn(ws_df)\n",
    "    tc.find_matches()\n",
    "    top_containers.append(tc)"
   ]
  },
  {
   "cell_type": "code",
   "execution_count": 18,
   "metadata": {},
   "outputs": [],
   "source": [
    "results = pd.DataFrame.from_records([rec for container in top_containers for rec in container.matches])"
   ]
  },
  {
   "cell_type": "markdown",
   "metadata": {},
   "source": [
    "We separate the results into three batches:\n",
    "1. Those with a 1:1 match between top container and Alma item record (barcode).\n",
    "2. Those where a 1:many match between top container and Alma item records.\n",
    "3. Those with a many:1 match between top containers and Alma item record."
   ]
  },
  {
   "cell_type": "code",
   "execution_count": 49,
   "metadata": {},
   "outputs": [],
   "source": [
    "one_to_one = results.groupby('top_container').filter(lambda x: len(x.barcode.unique()) == 1)"
   ]
  },
  {
   "cell_type": "code",
   "execution_count": 50,
   "metadata": {},
   "outputs": [
    {
     "data": {
      "text/plain": [
       "8264"
      ]
     },
     "execution_count": 50,
     "metadata": {},
     "output_type": "execute_result"
    }
   ],
   "source": [
    "len(one_to_one)"
   ]
  },
  {
   "cell_type": "code",
   "execution_count": 25,
   "metadata": {},
   "outputs": [],
   "source": [
    "legacy_1_to_1 = pd.read_csv('./aspace_data/one-to-one-matches-on-type.csv')"
   ]
  },
  {
   "cell_type": "code",
   "execution_count": 51,
   "metadata": {},
   "outputs": [],
   "source": [
    "one_to_one['in_legacy_db'] = one_to_one.top_container.isin(legacy_1_to_1.top_container)"
   ]
  },
  {
   "cell_type": "code",
   "execution_count": 52,
   "metadata": {},
   "outputs": [],
   "source": [
    "one_to_one.to_csv('./aspace_data/one-to-one-matches-prod.csv', index=False)"
   ]
  },
  {
   "cell_type": "code",
   "execution_count": 53,
   "metadata": {},
   "outputs": [],
   "source": [
    "one_to_many = results.groupby('top_container').filter(lambda x: len(x.barcode.unique()) > 1)\n",
    "one_to_many.to_csv('./aspace_data/one-to-many-matches-prod.csv', index=False)"
   ]
  },
  {
   "cell_type": "code",
   "execution_count": 56,
   "metadata": {},
   "outputs": [],
   "source": [
    "many_to_one = results.groupby('barcode').filter(lambda x: len(x.top_container.unique()) > 1)"
   ]
  },
  {
   "cell_type": "code",
   "execution_count": 57,
   "metadata": {},
   "outputs": [],
   "source": [
    "many_to_one.to_csv('./aspace_data/many-to-one-prod.csv', index=False)"
   ]
  },
  {
   "cell_type": "code",
   "execution_count": 34,
   "metadata": {},
   "outputs": [],
   "source": [
    "with open('./aspace_data/top-container-matches-prod.pkl', 'wb') as f:\n",
    "    pickle.dump(top_containers, f)"
   ]
  },
  {
   "cell_type": "markdown",
   "metadata": {},
   "source": [
    "To load matches for further analysis:"
   ]
  },
  {
   "cell_type": "code",
   "execution_count": 27,
   "metadata": {},
   "outputs": [],
   "source": [
    "with open('./aspace_data/top-container-matches-prod.pkl', 'rb') as f:\n",
    "    top_containers = pickle.load(f)"
   ]
  }
 ],
 "metadata": {
  "kernelspec": {
   "display_name": "Python 3",
   "language": "python",
   "name": "python3"
  },
  "language_info": {
   "codemirror_mode": {
    "name": "ipython",
    "version": 3
   },
   "file_extension": ".py",
   "mimetype": "text/x-python",
   "name": "python",
   "nbconvert_exporter": "python",
   "pygments_lexer": "ipython3",
   "version": "3.8.5"
  }
 },
 "nbformat": 4,
 "nbformat_minor": 4
}

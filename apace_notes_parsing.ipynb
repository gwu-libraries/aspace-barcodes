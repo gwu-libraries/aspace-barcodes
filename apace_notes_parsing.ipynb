{
 "cells": [
  {
   "cell_type": "markdown",
   "metadata": {},
   "source": [
    "## ArchiveSpace Barcodes Project\n",
    "### Notebook 2\n",
    "\n",
    "This notebook contains code for extracting Alma bib ID's from ArchiveSpace resource-record notes"
   ]
  },
  {
   "cell_type": "code",
   "execution_count": 365,
   "metadata": {},
   "outputs": [],
   "source": [
    "import pandas as pd\n",
    "import re"
   ]
  },
  {
   "cell_type": "code",
   "execution_count": 364,
   "metadata": {},
   "outputs": [],
   "source": [
    "tc_df = pd.read_pickle('./aspace_data/merged-dataset.pkl.gz')"
   ]
  },
  {
   "cell_type": "code",
   "execution_count": 245,
   "metadata": {},
   "outputs": [],
   "source": [
    "# Define patterns for matching bib numbers\n",
    "mms_id = '99\\d+4107'    # MMS ID's always begin and end with the same digits\n",
    "voyager_id = '\\d{7,8}'   # Range of valid Voyager bib ID lengths (shorter than MMS ID's)"
   ]
  },
  {
   "cell_type": "code",
   "execution_count": 255,
   "metadata": {},
   "outputs": [],
   "source": [
    "# Create a table mapping bib numbers to top containers\n",
    "bib_ids_df = tc_df[['top_container_id', 'note_label', 'note_content']].drop_duplicates()"
   ]
  },
  {
   "cell_type": "code",
   "execution_count": 256,
   "metadata": {},
   "outputs": [],
   "source": [
    "# Drop non-bib-number notes\n",
    "exclude = ['Historical narrative', 'Scope and Contents', 'Biographical Note', 'Abstract','Collection Scope and Content',\n",
    "          'Collection note', 'Historical or Biographical Note', 'Collection Organization', 'Historical Note']\n",
    "bib_ids_df = bib_ids_df.loc[~bib_ids_df.note_label.isin(exclude)].copy()"
   ]
  },
  {
   "cell_type": "code",
   "execution_count": 349,
   "metadata": {},
   "outputs": [],
   "source": [
    "# Regex extract ID numbers from notes\n",
    "mms_ids = bib_ids_df.note_content.str.extractall(f'.*({mms_id}).*', flags=re.MULTILINE)\n",
    "voyager_ids = bib_ids_df.note_content.str.extractall(f'(?:,|\\:|\\.|\\s|#|;|^)({voyager_id})(?:,|\\:|\\.|\\s|;|$)', flags=re.MULTILINE)"
   ]
  },
  {
   "cell_type": "code",
   "execution_count": 350,
   "metadata": {},
   "outputs": [],
   "source": [
    "# This complicated approach is necessary because the DataFrame.join method, \n",
    "# which merges on index values, does not seem to work in this case when a LEFT join\n",
    "# is specified.\n",
    "# Instead, we merge on a column called \"index\"\n",
    "# First, set the names on the multiIndex resulting from the extractall method\n",
    "mms_ids.index = mms_ids.index.set_names(['index', 'match'])\n",
    "voyager_ids.index = voyager_ids.index.set_names(['index', 'match'])"
   ]
  },
  {
   "cell_type": "code",
   "execution_count": 351,
   "metadata": {},
   "outputs": [],
   "source": [
    "# Create the \"index\" column in the source DF\n",
    "tc_bibs_df = bib_ids_df.reset_index()"
   ]
  },
  {
   "cell_type": "code",
   "execution_count": 352,
   "metadata": {},
   "outputs": [],
   "source": [
    "# Left merge on both of the extract DF's, using the shared \"index\" column\n",
    "tc_bibs_df = tc_bibs_df.merge(mms_ids.reset_index(), how='left')\\\n",
    "            .drop(columns=['match'])\\\n",
    "            .rename(columns={0: 'mms_id'})    "
   ]
  },
  {
   "cell_type": "code",
   "execution_count": 353,
   "metadata": {},
   "outputs": [],
   "source": [
    "tc_bibs_df = tc_bibs_df.merge(voyager_ids.reset_index(), how='left')\\\n",
    "                .drop(columns=['match'])\\\n",
    "                .rename(columns={0: 'voyager_id'})"
   ]
  },
  {
   "cell_type": "code",
   "execution_count": 366,
   "metadata": {},
   "outputs": [],
   "source": [
    "# Add updated MMS Id to NEA records\n",
    "updated = pd.read_csv('./aspace_data/nea_updates.csv')\n",
    "# Isolate just the collection-level resource identifier (NEA1001, etc.)\n",
    "updated['rid_str'] = updated['resource identifier'].str.split('-').apply(lambda x: x[0])"
   ]
  },
  {
   "cell_type": "code",
   "execution_count": 401,
   "metadata": {},
   "outputs": [],
   "source": [
    "updated['mms id'] = updated['mms id'].astype(str)"
   ]
  },
  {
   "cell_type": "code",
   "execution_count": 402,
   "metadata": {},
   "outputs": [],
   "source": [
    "# Identify containers to update for each NEA resource ID\n",
    "for rid, mms_id in updated[['rid_str', 'mms id']].itertuples(index=False):\n",
    "    tc_to_update = tc_df.loc[tc_df.resource_identifier.str.contains(rid)].top_container_id.values\n",
    "    tc_bibs_df.loc[tc_bibs_df.top_container_id.isin(tc_to_update), 'mms_id'] = mms_id"
   ]
  },
  {
   "cell_type": "code",
   "execution_count": 404,
   "metadata": {},
   "outputs": [],
   "source": [
    "tc_bibs_df.to_pickle('./aspace_data/tc-to-bib-mapping.pkl.gz')"
   ]
  },
  {
   "cell_type": "code",
   "execution_count": 393,
   "metadata": {},
   "outputs": [
    {
     "data": {
      "text/html": [
       "<div>\n",
       "<style scoped>\n",
       "    .dataframe tbody tr th:only-of-type {\n",
       "        vertical-align: middle;\n",
       "    }\n",
       "\n",
       "    .dataframe tbody tr th {\n",
       "        vertical-align: top;\n",
       "    }\n",
       "\n",
       "    .dataframe thead th {\n",
       "        text-align: right;\n",
       "    }\n",
       "</style>\n",
       "<table border=\"1\" class=\"dataframe\">\n",
       "  <thead>\n",
       "    <tr style=\"text-align: right;\">\n",
       "      <th></th>\n",
       "      <th>index</th>\n",
       "      <th>top_container_id</th>\n",
       "      <th>note_label</th>\n",
       "      <th>note_content</th>\n",
       "      <th>mms_id</th>\n",
       "      <th>voyager_id</th>\n",
       "    </tr>\n",
       "  </thead>\n",
       "  <tbody>\n",
       "    <tr>\n",
       "      <th>6796</th>\n",
       "      <td>9445</td>\n",
       "      <td>17227</td>\n",
       "      <td>Bib#</td>\n",
       "      <td>10829573</td>\n",
       "      <td>NaN</td>\n",
       "      <td>10829573</td>\n",
       "    </tr>\n",
       "  </tbody>\n",
       "</table>\n",
       "</div>"
      ],
      "text/plain": [
       "      index  top_container_id note_label note_content mms_id voyager_id\n",
       "6796   9445             17227       Bib#    10829573     NaN   10829573"
      ]
     },
     "execution_count": 393,
     "metadata": {},
     "output_type": "execute_result"
    }
   ],
   "source": [
    "tc_bibs_df.loc[tc_bibs_df.top_container_id==17227]"
   ]
  },
  {
   "cell_type": "code",
   "execution_count": 394,
   "metadata": {},
   "outputs": [
    {
     "data": {
      "text/html": [
       "<div>\n",
       "<style scoped>\n",
       "    .dataframe tbody tr th:only-of-type {\n",
       "        vertical-align: middle;\n",
       "    }\n",
       "\n",
       "    .dataframe tbody tr th {\n",
       "        vertical-align: top;\n",
       "    }\n",
       "\n",
       "    .dataframe thead th {\n",
       "        text-align: right;\n",
       "    }\n",
       "</style>\n",
       "<table border=\"1\" class=\"dataframe\">\n",
       "  <thead>\n",
       "    <tr style=\"text-align: right;\">\n",
       "      <th></th>\n",
       "      <th>index</th>\n",
       "      <th>top_container_id</th>\n",
       "      <th>note_label</th>\n",
       "      <th>note_content</th>\n",
       "      <th>mms_id</th>\n",
       "      <th>voyager_id</th>\n",
       "    </tr>\n",
       "  </thead>\n",
       "  <tbody>\n",
       "  </tbody>\n",
       "</table>\n",
       "</div>"
      ],
      "text/plain": [
       "Empty DataFrame\n",
       "Columns: [index, top_container_id, note_label, note_content, mms_id, voyager_id]\n",
       "Index: []"
      ]
     },
     "execution_count": 394,
     "metadata": {},
     "output_type": "execute_result"
    }
   ],
   "source": [
    "tc_bibs_df.groupby('top_container_id').filter(lambda x: (x.mms_id.isnull() & x.voyager_id.isnull()).all())"
   ]
  }
 ],
 "metadata": {
  "kernelspec": {
   "display_name": "Python 3",
   "language": "python",
   "name": "python3"
  },
  "language_info": {
   "codemirror_mode": {
    "name": "ipython",
    "version": 3
   },
   "file_extension": ".py",
   "mimetype": "text/x-python",
   "name": "python",
   "nbconvert_exporter": "python",
   "pygments_lexer": "ipython3",
   "version": "3.8.5"
  }
 },
 "nbformat": 4,
 "nbformat_minor": 4
}
